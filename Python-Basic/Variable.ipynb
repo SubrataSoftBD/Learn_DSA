{
 "cells": [
  {
   "cell_type": "code",
   "execution_count": 1,
   "id": "edb71933",
   "metadata": {},
   "outputs": [],
   "source": [
    "#Introduction to variable\n",
    "#Declaring And Assigning Variable\n",
    "#Naming Convention\n",
    "#Understanding Variable Types\n",
    "#Type Checking and Conversation\n",
    "#Dynamic Type\n",
    "#Practical Examples and Common Errors"
   ]
  },
  {
   "cell_type": "code",
   "execution_count": 3,
   "id": "51dbd47a",
   "metadata": {},
   "outputs": [],
   "source": [
    "a = 100"
   ]
  },
  {
   "cell_type": "code",
   "execution_count": 5,
   "id": "eb13649e",
   "metadata": {},
   "outputs": [
    {
     "name": "stdout",
     "output_type": "stream",
     "text": [
      "Age:  30\n",
      "Height:  5.9\n",
      "Name:  Subrata\n",
      "Is student:  True\n"
     ]
    }
   ],
   "source": [
    "age = 30\n",
    "height = 5.9\n",
    "name = \"Subrata\"\n",
    "is_student = True\n",
    "\n",
    "print(\"Age: \", age)\n",
    "print(\"Height: \", height)\n",
    "print(\"Name: \", name)\n",
    "print(\"Is student: \", is_student)\n"
   ]
  },
  {
   "cell_type": "code",
   "execution_count": 7,
   "id": "67bbc045",
   "metadata": {},
   "outputs": [
    {
     "name": "stdout",
     "output_type": "stream",
     "text": [
      "Age:  <class 'int'>\n",
      "Height:  <class 'float'>\n",
      "Name:  <class 'str'>\n",
      "Is student:  <class 'bool'>\n"
     ]
    }
   ],
   "source": [
    "## Understanding Variable Types\n",
    "## Python is dynamically types, type of a variable  is determined at runtime\n",
    "age = 30 #int\n",
    "height = 5.9 #Float\n",
    "name = \"Subrata\" #str\n",
    "is_student = True #bool\n",
    "\n",
    "print(\"Age: \", type(age))\n",
    "print(\"Height: \", type(height))\n",
    "print(\"Name: \", type(name))\n",
    "print(\"Is student: \", type(is_student))"
   ]
  },
  {
   "cell_type": "code",
   "execution_count": 11,
   "id": "2e1573fa",
   "metadata": {},
   "outputs": [
    {
     "name": "stdout",
     "output_type": "stream",
     "text": [
      "<class 'str'>\n"
     ]
    }
   ],
   "source": [
    "age_str = str(age)\n",
    "print(type(age_str))"
   ]
  },
  {
   "cell_type": "code",
   "execution_count": 16,
   "id": "07474bcd",
   "metadata": {},
   "outputs": [
    {
     "data": {
      "text/plain": [
       "5.0"
      ]
     },
     "execution_count": 16,
     "metadata": {},
     "output_type": "execute_result"
    }
   ],
   "source": [
    "height = 5.55\n",
    "float(int(height))"
   ]
  },
  {
   "cell_type": "code",
   "execution_count": 19,
   "id": "52788432",
   "metadata": {},
   "outputs": [
    {
     "name": "stdout",
     "output_type": "stream",
     "text": [
      "10 <class 'int'>\n",
      "Hello <class 'str'>\n"
     ]
    }
   ],
   "source": [
    "#Dynamic Typing\n",
    "#Python allows the type of a variable to be changed as the program executes\n",
    "\n",
    "var = 10\n",
    "\n",
    "print(var, type(var))\n",
    "\n",
    "var = \"Hello\"\n",
    "print(var, type(var))"
   ]
  },
  {
   "cell_type": "code",
   "execution_count": 24,
   "id": "a3267c2b",
   "metadata": {},
   "outputs": [
    {
     "name": "stdout",
     "output_type": "stream",
     "text": [
      "23 <class 'int'>\n"
     ]
    }
   ],
   "source": [
    "age = int(input(\"What is the age: \"))\n",
    "print(age, type(age))\n"
   ]
  },
  {
   "cell_type": "code",
   "execution_count": 25,
   "id": "5cfdc5cf",
   "metadata": {},
   "outputs": [
    {
     "name": "stdout",
     "output_type": "stream",
     "text": [
      "Sum: 52.0\n",
      "Difference: -12.0\n",
      "Product: 640.0\n",
      "Quotient: 0.625\n"
     ]
    }
   ],
   "source": [
    "### Simple Calculator\n",
    "\n",
    "num1 = float(input(\"Enter first number: \"))\n",
    "num2 = float(input(\"Enter second number: \"))\n",
    "\n",
    "sum = num1 + num2\n",
    "different = num1 - num2\n",
    "product = num1 * num2\n",
    "quotient = num1 / num2\n",
    "\n",
    "print(f\"Sum: {sum}\")\n",
    "print(f\"Difference: {different}\")   \n",
    "print(f\"Product: {product}\")\n",
    "print(f\"Quotient: {quotient}\")"
   ]
  }
 ],
 "metadata": {
  "kernelspec": {
   "display_name": "base",
   "language": "python",
   "name": "python3"
  },
  "language_info": {
   "codemirror_mode": {
    "name": "ipython",
    "version": 3
   },
   "file_extension": ".py",
   "mimetype": "text/x-python",
   "name": "python",
   "nbconvert_exporter": "python",
   "pygments_lexer": "ipython3",
   "version": "3.12.2"
  }
 },
 "nbformat": 4,
 "nbformat_minor": 5
}
