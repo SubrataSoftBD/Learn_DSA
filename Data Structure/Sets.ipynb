{
 "cells": [
  {
   "cell_type": "markdown",
   "id": "f2fbaae8",
   "metadata": {},
   "source": [
    "# Sets\n",
    "Sets are a build in data type in Python used to store collection od unique items. They are unordered, meanings that the element don't follow a specific order. and they don't allow duplicate element.Sets are useful membership test, eliminating duplicate entries\n"
   ]
  },
  {
   "cell_type": "code",
   "execution_count": 2,
   "id": "2e9bb8df",
   "metadata": {},
   "outputs": [
    {
     "name": "stdout",
     "output_type": "stream",
     "text": [
      "{1, 2, 3, 4}\n",
      "<class 'set'>\n"
     ]
    }
   ],
   "source": [
    "#Creating set\n",
    "\n",
    "my_set = {1, 2, 3, 4, 3}\n",
    "print(my_set)\n",
    "print(type(my_set))"
   ]
  },
  {
   "cell_type": "code",
   "execution_count": 9,
   "id": "f66bf32f",
   "metadata": {},
   "outputs": [
    {
     "name": "stdout",
     "output_type": "stream",
     "text": [
      "{1, 2, 3, 4, 5}\n",
      "<class 'set'>\n"
     ]
    }
   ],
   "source": [
    "my_new_set = set([1, 2,3 ,4 ,5])\n",
    "print(my_new_set)\n",
    "print(type(my_new_set))"
   ]
  },
  {
   "cell_type": "code",
   "execution_count": 19,
   "id": "62b329a5",
   "metadata": {},
   "outputs": [
    {
     "name": "stdout",
     "output_type": "stream",
     "text": [
      "{2, 4, 5, 10, 13}\n"
     ]
    }
   ],
   "source": [
    "#Adding\n",
    "my_new_set.add(10)\n",
    "my_new_set.add(10)\n",
    "my_new_set.add(13)\n",
    "print(my_new_set)"
   ]
  },
  {
   "cell_type": "code",
   "execution_count": 21,
   "id": "e2c838da",
   "metadata": {},
   "outputs": [
    {
     "name": "stdout",
     "output_type": "stream",
     "text": [
      "{2, 5, 10, 13}\n"
     ]
    }
   ],
   "source": [
    "#Remove element\n",
    "my_new_set.remove(4)\n",
    "print(my_new_set)"
   ]
  },
  {
   "cell_type": "code",
   "execution_count": 23,
   "id": "30fb5882",
   "metadata": {},
   "outputs": [
    {
     "name": "stdout",
     "output_type": "stream",
     "text": [
      "{2, 5, 10, 13}\n"
     ]
    }
   ],
   "source": [
    "my_new_set.discard(33)\n",
    "print(my_new_set)"
   ]
  },
  {
   "cell_type": "code",
   "execution_count": 25,
   "id": "d0598e14",
   "metadata": {},
   "outputs": [
    {
     "name": "stdout",
     "output_type": "stream",
     "text": [
      "5\n",
      "{10, 13}\n"
     ]
    }
   ],
   "source": [
    "#Pop method\n",
    "\n",
    "remove_element = my_new_set.pop()\n",
    "print(remove_element)\n",
    "print(my_new_set)"
   ]
  },
  {
   "cell_type": "code",
   "execution_count": 27,
   "id": "ce4a2980",
   "metadata": {},
   "outputs": [
    {
     "name": "stdout",
     "output_type": "stream",
     "text": [
      "set()\n"
     ]
    }
   ],
   "source": [
    "#Clear all element\n",
    "\n",
    "my_new_set.clear()\n",
    "print(my_new_set)"
   ]
  },
  {
   "cell_type": "code",
   "execution_count": 29,
   "id": "a6d99173",
   "metadata": {},
   "outputs": [
    {
     "name": "stdout",
     "output_type": "stream",
     "text": [
      "True\n",
      "False\n"
     ]
    }
   ],
   "source": [
    "#Set membership test\n",
    "\n",
    "my_set = {1, 2, 3, 4, 5, 6, 7}\n",
    "print(1 in my_set)\n",
    "print(100 in my_set)\n",
    "\n"
   ]
  },
  {
   "cell_type": "code",
   "execution_count": 34,
   "id": "b877ee5f",
   "metadata": {},
   "outputs": [
    {
     "name": "stdout",
     "output_type": "stream",
     "text": [
      "{1, 2, 3, 4, 5, 6, 7, 8}\n",
      "{4, 5}\n",
      "None\n",
      "{4, 5}\n"
     ]
    }
   ],
   "source": [
    "#Mathematical operations\n",
    "\n",
    "set1 = {1, 2, 3, 4, 5}\n",
    "set2 = {4, 5, 6, 7, 8}\n",
    "\n",
    "print(set1.union(set2)) #add all elements\n",
    "print(set1.intersection(set2))# add common element\n",
    "\n",
    "print(set1.intersection_update(set2))\n",
    "print(set1)\n"
   ]
  },
  {
   "cell_type": "code",
   "execution_count": 38,
   "id": "45846a88",
   "metadata": {},
   "outputs": [
    {
     "name": "stdout",
     "output_type": "stream",
     "text": [
      "{8, 6, 7}\n"
     ]
    }
   ],
   "source": [
    "set1 = {1, 2, 3, 4, 5}\n",
    "set2 = {4, 5, 6, 7, 8}\n",
    "\n",
    "# print(set1.difference(set2))\n",
    "# print(set1.difference_update(set2))\n",
    "# print(set1)\n",
    "\n",
    "print(set2.difference(set1))\n"
   ]
  },
  {
   "cell_type": "code",
   "execution_count": 40,
   "id": "2d02db32",
   "metadata": {},
   "outputs": [
    {
     "name": "stdout",
     "output_type": "stream",
     "text": [
      "{1, 2, 3, 6, 7, 8}\n"
     ]
    }
   ],
   "source": [
    "#Symmetric Difference\n",
    "\n",
    "print(set1.symmetric_difference(set2))\n",
    "\n"
   ]
  },
  {
   "cell_type": "code",
   "execution_count": 46,
   "id": "c92d2a1f",
   "metadata": {},
   "outputs": [
    {
     "name": "stdout",
     "output_type": "stream",
     "text": [
      "False\n",
      "False\n"
     ]
    }
   ],
   "source": [
    "## Sets Methods\n",
    "set1 = {1, 2, 3, 4, 5, 6, 7}\n",
    "set2 = {5, 6, 7, 8}\n",
    "# set2 = {1, 2, 3, 4, 5}\n",
    "\n",
    "print(set1.issubset(set2))\n",
    "print(set1.issuperset(set2))"
   ]
  },
  {
   "cell_type": "code",
   "execution_count": 48,
   "id": "a1f3ab50",
   "metadata": {},
   "outputs": [
    {
     "name": "stdout",
     "output_type": "stream",
     "text": [
      "{'about', 'discussing', 'we', 'tutorial', 'sets', 'In', 'this', 'are'}\n",
      "8\n"
     ]
    }
   ],
   "source": [
    "#Counting Unique word in text\n",
    "\n",
    "text = \"In this tutorial we are discussing about sets\"\n",
    "words = text.split()\n",
    "\n",
    "##Convert list of word in set\n",
    "unique_word = set(words)\n",
    "\n",
    "print(unique_word)\n",
    "print(len(unique_word))"
   ]
  }
 ],
 "metadata": {
  "kernelspec": {
   "display_name": "base",
   "language": "python",
   "name": "python3"
  },
  "language_info": {
   "codemirror_mode": {
    "name": "ipython",
    "version": 3
   },
   "file_extension": ".py",
   "mimetype": "text/x-python",
   "name": "python",
   "nbconvert_exporter": "python",
   "pygments_lexer": "ipython3",
   "version": "3.12.2"
  }
 },
 "nbformat": 4,
 "nbformat_minor": 5
}
