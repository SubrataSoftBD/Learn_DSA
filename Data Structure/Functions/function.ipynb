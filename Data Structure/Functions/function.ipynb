{
 "cells": [
  {
   "cell_type": "markdown",
   "id": "ddd6a49b",
   "metadata": {},
   "source": [
    "#Definition:\n",
    "A function is a bloc of code that performs a specific task. Function help in organizing code, reusing code, improving readability\n"
   ]
  },
  {
   "cell_type": "code",
   "execution_count": 4,
   "id": "de318ca0",
   "metadata": {},
   "outputs": [
    {
     "name": "stdout",
     "output_type": "stream",
     "text": [
      "expression\n"
     ]
    }
   ],
   "source": [
    "## Function\n",
    "def function_name(parameter):\n",
    "    #Function Body\n",
    "    return \"expression\"\n",
    "\n",
    "print(function_name(\"Hello\"))"
   ]
  }
 ],
 "metadata": {
  "kernelspec": {
   "display_name": "base",
   "language": "python",
   "name": "python3"
  },
  "language_info": {
   "codemirror_mode": {
    "name": "ipython",
    "version": 3
   },
   "file_extension": ".py",
   "mimetype": "text/x-python",
   "name": "python",
   "nbconvert_exporter": "python",
   "pygments_lexer": "ipython3",
   "version": "3.12.2"
  }
 },
 "nbformat": 4,
 "nbformat_minor": 5
}
