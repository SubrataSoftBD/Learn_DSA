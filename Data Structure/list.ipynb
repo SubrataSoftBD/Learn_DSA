{
 "cells": [
  {
   "cell_type": "code",
   "execution_count": 4,
   "id": "82579a3c",
   "metadata": {},
   "outputs": [],
   "source": [
    "# Introduction List\n",
    "#Creating a list\n",
    "#Accessing List Element\n",
    "#Modifying List Elements\n",
    "#List Methods\n",
    "#List Slicing\n",
    "#Iterating Over a List\n",
    "#List Comprehension\n",
    "#Nested List\n",
    "#Practical Example and Common Error"
   ]
  },
  {
   "cell_type": "code",
   "execution_count": 2,
   "id": "024b3d4b",
   "metadata": {},
   "outputs": [],
   "source": [
    "# List are ordered, mutable collection of items. They can contains items of different data types."
   ]
  },
  {
   "cell_type": "code",
   "execution_count": 5,
   "id": "a692ee71",
   "metadata": {},
   "outputs": [
    {
     "data": {
      "text/plain": [
       "['Subrata', 'Babu', 1, 2, 3, 4]"
      ]
     },
     "execution_count": 5,
     "metadata": {},
     "output_type": "execute_result"
    }
   ],
   "source": [
    "#Creating a list\n",
    "\n",
    "name = [\"Subrata\", \"Babu\", 1, 2, 3, 4]\n",
    "name"
   ]
  },
  {
   "cell_type": "code",
   "execution_count": 10,
   "id": "a3723977",
   "metadata": {},
   "outputs": [
    {
     "name": "stdout",
     "output_type": "stream",
     "text": [
      "Apple\n",
      "Gauva\n",
      "Gauva\n"
     ]
    }
   ],
   "source": [
    "#Accessing List Element\n",
    "fruits = [\"Apple\", \"Banana\", \"Cherry\", \"Kiwi\", \"Gauva\"]\n",
    "\n",
    "print(fruits[0])\n",
    "print(fruits[4])\n",
    "print(fruits[-1])"
   ]
  },
  {
   "cell_type": "code",
   "execution_count": 19,
   "id": "19c5e697",
   "metadata": {},
   "outputs": [
    {
     "name": "stdout",
     "output_type": "stream",
     "text": [
      "['Banana', 'Cherry', 'Kiwi', 'Gauva']\n",
      "[]\n"
     ]
    }
   ],
   "source": [
    "print(fruits[1:len(fruits)])\n",
    "print(fruits[-1:-2])"
   ]
  },
  {
   "cell_type": "code",
   "execution_count": null,
   "id": "ed4ef6d6",
   "metadata": {},
   "outputs": [
    {
     "data": {
      "text/plain": [
       "['Apple', 'Mango', 'a', 'n', 'g', 'o']"
      ]
     },
     "execution_count": 22,
     "metadata": {},
     "output_type": "execute_result"
    }
   ],
   "source": [
    "#Modifying List Elements\n",
    "\n",
    "fruits[1] = \"Mango\"\n",
    "fruits"
   ]
  },
  {
   "cell_type": "code",
   "execution_count": 26,
   "id": "a9fbdb66",
   "metadata": {},
   "outputs": [
    {
     "data": {
      "text/plain": [
       "['Apple', 'Banana', 'Cherry', 'Kiwi', 'Gauva', 'Welcome']"
      ]
     },
     "execution_count": 26,
     "metadata": {},
     "output_type": "execute_result"
    }
   ],
   "source": [
    "#List Method\n",
    "fruits = [\"Apple\", \"Banana\", \"Cherry\", \"Kiwi\", \"Gauva\"]\n",
    "fruits.append(\"Welcome\")\n",
    "fruits"
   ]
  },
  {
   "cell_type": "code",
   "execution_count": 31,
   "id": "bff2b9fc",
   "metadata": {},
   "outputs": [
    {
     "name": "stdout",
     "output_type": "stream",
     "text": [
      "['Apple', 'Subrata', 'Subrata', 'Subrata', 'Subrata', 'Subrata', 'Banana', 'Cherry', 'Kiwi', 'Gauva', 'Welcome']\n"
     ]
    }
   ],
   "source": [
    "fruits.insert(1, \"Subrata\")\n",
    "print(fruits)"
   ]
  },
  {
   "cell_type": "code",
   "execution_count": 34,
   "id": "5f01884b",
   "metadata": {},
   "outputs": [
    {
     "name": "stdout",
     "output_type": "stream",
     "text": [
      "['Apple', 'Banana', 'Kiwi', 'Gauva']\n"
     ]
    }
   ],
   "source": [
    "fruits = [\"Apple\", \"Banana\", \"Cherry\", \"Kiwi\", \"Gauva\"]\n",
    "fruits.remove(\"Cherry\")\n",
    "print(fruits)"
   ]
  },
  {
   "cell_type": "code",
   "execution_count": 39,
   "id": "a6968332",
   "metadata": {},
   "outputs": [
    {
     "name": "stdout",
     "output_type": "stream",
     "text": [
      "Gauva\n",
      "['Apple', 'Banana', 'Cherry', 'Kiwi']\n"
     ]
    }
   ],
   "source": [
    "##Remove return last items\n",
    "fruits = [\"Apple\", \"Banana\", \"Cherry\", \"Kiwi\", \"Gauva\"]\n",
    "last_items = fruits.pop()\n",
    "print(last_items)\n",
    "print(fruits)"
   ]
  },
  {
   "cell_type": "code",
   "execution_count": 42,
   "id": "5f1a16cb",
   "metadata": {},
   "outputs": [
    {
     "name": "stdout",
     "output_type": "stream",
     "text": [
      "1\n"
     ]
    }
   ],
   "source": [
    "fruits = [\"Apple\", \"Banana\", \"Cherry\", \"Kiwi\", \"Gauva\"]\n",
    "index =  fruits.index(\"Banana\")\n",
    "print(index)"
   ]
  },
  {
   "cell_type": "code",
   "execution_count": 51,
   "id": "269d875b",
   "metadata": {},
   "outputs": [
    {
     "name": "stdout",
     "output_type": "stream",
     "text": [
      "['Apple', 'Banana', 'Banana', 'Cherry', 'Kiwi', 'Gauva']\n",
      "1\n",
      "2\n"
     ]
    },
    {
     "data": {
      "text/plain": [
       "['Gauva', 'Kiwi', 'Cherry', 'Banana', 'Banana', 'Apple']"
      ]
     },
     "execution_count": 51,
     "metadata": {},
     "output_type": "execute_result"
    }
   ],
   "source": [
    "fruits = [\"Apple\", \"Banana\", \"Cherry\", \"Kiwi\", \"Gauva\"]\n",
    "fruits.insert(1, \"Banana\")\n",
    "print(fruits)\n",
    "print(index)\n",
    "print(fruits.count(\"Banana\"))\n",
    "\n",
    "# fruits.sort()\n",
    "fruits.reverse()\n",
    "# fruits.clear()\n",
    "fruits"
   ]
  },
  {
   "cell_type": "code",
   "execution_count": 54,
   "id": "5ba34ef1",
   "metadata": {},
   "outputs": [
    {
     "name": "stdout",
     "output_type": "stream",
     "text": [
      "[3, 4, 5]\n",
      "[1, 2, 3, 4, 5]\n",
      "[6, 7, 8, 9, 10]\n",
      "[1, 3, 5, 7, 9]\n",
      "[10, 9, 8, 7, 6, 5, 4, 3, 2, 1]\n"
     ]
    }
   ],
   "source": [
    "list = [1, 2, 3, 4, 5, 6, 7, 8, 9, 10]\n",
    "\n",
    "print(list[2:5])\n",
    "print(list[:5])\n",
    "print(list[5:])\n",
    "print(list[::2])\n",
    "print(list[::-1])"
   ]
  },
  {
   "cell_type": "code",
   "execution_count": 56,
   "id": "826432b4",
   "metadata": {},
   "outputs": [
    {
     "name": "stdout",
     "output_type": "stream",
     "text": [
      "Apple\n",
      "Banana\n",
      "Cherry\n",
      "Kiwi\n",
      "Gauva\n"
     ]
    }
   ],
   "source": [
    "#Iterate list\n",
    "\n",
    "fruits = [\"Apple\", \"Banana\", \"Cherry\", \"Kiwi\", \"Gauva\"]\n",
    "\n",
    "for data in fruits:\n",
    "    print(data)"
   ]
  },
  {
   "cell_type": "code",
   "execution_count": 59,
   "id": "62f58d49",
   "metadata": {},
   "outputs": [
    {
     "name": "stdout",
     "output_type": "stream",
     "text": [
      "0 Apple\n",
      "1 Banana\n",
      "2 Cherry\n",
      "3 Kiwi\n",
      "4 Gauva\n"
     ]
    }
   ],
   "source": [
    "#Iterate list with index\n",
    "\n",
    "for index, number in enumerate(fruits):\n",
    "    print(index, number)"
   ]
  },
  {
   "cell_type": "code",
   "execution_count": 62,
   "id": "7a998704",
   "metadata": {},
   "outputs": [
    {
     "name": "stdout",
     "output_type": "stream",
     "text": [
      "[0, 1, 4, 9, 16, 25, 36, 49, 64, 81]\n"
     ]
    }
   ],
   "source": [
    "##List Comprehension\n",
    "\n",
    "list = []\n",
    "\n",
    "for x in range(10):\n",
    "    list.append(x**2)\n",
    "\n",
    "print(list)\n"
   ]
  },
  {
   "cell_type": "markdown",
   "id": "6afc7826",
   "metadata": {},
   "source": [
    "Basic Syntax    [expression for items in iterable]\n",
    "With Condition Logic    [expression for items in iterable if condition]\n",
    "Nested List Comprehension  [expressions for items1 in iterable1 for items2 in iterable2]"
   ]
  },
  {
   "cell_type": "code",
   "execution_count": 1,
   "id": "0a5e74fe",
   "metadata": {},
   "outputs": [
    {
     "data": {
      "text/plain": [
       "[0, 1, 4, 9, 16, 25, 36, 49, 64, 81]"
      ]
     },
     "execution_count": 1,
     "metadata": {},
     "output_type": "execute_result"
    }
   ],
   "source": [
    "[x**2 for x in range(10)]"
   ]
  },
  {
   "cell_type": "code",
   "execution_count": 3,
   "id": "7aeb7652",
   "metadata": {},
   "outputs": [
    {
     "data": {
      "text/plain": [
       "[0, 1, 4, 9, 16, 25, 36, 49, 64, 81]"
      ]
     },
     "execution_count": 3,
     "metadata": {},
     "output_type": "execute_result"
    }
   ],
   "source": [
    "square = [x**2 for x in range(10)]\n",
    "\n",
    "square\n"
   ]
  },
  {
   "cell_type": "code",
   "execution_count": 5,
   "id": "1fecee13",
   "metadata": {},
   "outputs": [
    {
     "name": "stdout",
     "output_type": "stream",
     "text": [
      "[0, 2, 4, 6, 8]\n"
     ]
    }
   ],
   "source": [
    "#Condition Logic \n",
    "\n",
    "lst = []\n",
    "\n",
    "for i in range(10):\n",
    "    if i%2 ==0:\n",
    "        lst.append(i)\n",
    "print(lst)"
   ]
  },
  {
   "cell_type": "code",
   "execution_count": 7,
   "id": "6dc1277d",
   "metadata": {},
   "outputs": [
    {
     "name": "stdout",
     "output_type": "stream",
     "text": [
      "[0, 2, 4, 6, 8]\n"
     ]
    }
   ],
   "source": [
    "#Condition Logic   with Comprehension\n",
    "\n",
    "lst = [i for i in range(10) if i%2 == 0]\n",
    "print(lst)"
   ]
  },
  {
   "cell_type": "code",
   "execution_count": 12,
   "id": "5f9bb160",
   "metadata": {},
   "outputs": [
    {
     "name": "stdout",
     "output_type": "stream",
     "text": [
      "[[1, 'A'], [1, 'B'], [1, 'C'], [1, 'D'], [2, 'A'], [2, 'B'], [2, 'C'], [2, 'D'], [3, 'A'], [3, 'B'], [3, 'C'], [3, 'D'], [4, 'A'], [4, 'B'], [4, 'C'], [4, 'D']]\n"
     ]
    }
   ],
   "source": [
    "#Nested List\n",
    "list1 = [1, 2, 3, 4]\n",
    "list2 = [\"A\", \"B\", \"C\", \"D\",]\n",
    "\n",
    "data = [[i, j] for i in list1 for j in list2 ]\n",
    "\n",
    "print(data)"
   ]
  },
  {
   "cell_type": "code",
   "execution_count": 14,
   "id": "2bbabcb1",
   "metadata": {},
   "outputs": [
    {
     "name": "stdout",
     "output_type": "stream",
     "text": [
      "[5, 5, 6, 21]\n"
     ]
    }
   ],
   "source": [
    "#List comprehension with function\n",
    "\n",
    "words =[\"Hello\", \"World\", \"Python\", \"Welcome to my Channel\"]\n",
    "\n",
    "length = [len(word) for word in words]\n",
    "print(length)\n"
   ]
  }
 ],
 "metadata": {
  "kernelspec": {
   "display_name": "base",
   "language": "python",
   "name": "python3"
  },
  "language_info": {
   "codemirror_mode": {
    "name": "ipython",
    "version": 3
   },
   "file_extension": ".py",
   "mimetype": "text/x-python",
   "name": "python",
   "nbconvert_exporter": "python",
   "pygments_lexer": "ipython3",
   "version": "3.12.2"
  }
 },
 "nbformat": 4,
 "nbformat_minor": 5
}
