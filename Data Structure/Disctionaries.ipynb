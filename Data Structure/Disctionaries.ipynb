{
 "cells": [
  {
   "cell_type": "markdown",
   "id": "22d44169",
   "metadata": {
    "vscode": {
     "languageId": "perl"
    }
   },
   "source": [
    "1. Introduction\n",
    "2. Creation\n",
    "3. Accessing\n",
    "4. Modifying\n",
    "5. Methods\n",
    "6. Iterating\n",
    "7. Nested Dictionaries\n",
    "8. Dictionaries Comprehension\n",
    "9. Practical Example"
   ]
  },
  {
   "cell_type": "markdown",
   "id": "74717e1d",
   "metadata": {},
   "source": [
    "Introduction:\n",
    "\n",
    "Dictionaries are unordered collection of items. They store data in key-pairs. Keys must be unique and immutable"
   ]
  },
  {
   "cell_type": "code",
   "execution_count": 3,
   "id": "ff5c2014",
   "metadata": {},
   "outputs": [
    {
     "name": "stdout",
     "output_type": "stream",
     "text": [
      "{}\n",
      "<class 'dict'>\n"
     ]
    }
   ],
   "source": [
    "#Creating:\n",
    "dic = {}\n",
    "\n",
    "print(dic)\n",
    "print(type(dic))\n"
   ]
  },
  {
   "cell_type": "code",
   "execution_count": 5,
   "id": "6fc6797c",
   "metadata": {},
   "outputs": [
    {
     "name": "stdout",
     "output_type": "stream",
     "text": [
      "{'Name': 'Subrata', 'Age': 30, 'is_student': True}\n"
     ]
    }
   ],
   "source": [
    "student = {\"Name\": \"Subrata\", \"Age\": 30, \"is_student\": True}\n",
    "print(student)"
   ]
  },
  {
   "cell_type": "code",
   "execution_count": 7,
   "id": "a44b4108",
   "metadata": {},
   "outputs": [
    {
     "name": "stdout",
     "output_type": "stream",
     "text": [
      "{'Name': 'Subrata', 'Age': 30, 'is_student': True}\n"
     ]
    }
   ],
   "source": [
    "student = {\"Name\" : \"None\", \"Name\": \"Subrata\", \"Age\": 30, \"is_student\": True}\n",
    "print(student)"
   ]
  },
  {
   "cell_type": "code",
   "execution_count": 10,
   "id": "8c845d20",
   "metadata": {},
   "outputs": [
    {
     "name": "stdout",
     "output_type": "stream",
     "text": [
      "Subrata\n",
      "30\n",
      "Not found\n"
     ]
    }
   ],
   "source": [
    "#Accessing:\n",
    "student = {\"Name\": \"Subrata\", \"age\": 30, \"is_student\": True}\n",
    "\n",
    "print(student[\"Name\"])\n",
    "\n",
    "print(student.get(\"age\"))\n",
    "print(student.get(\"Last_name\", \"Not found\"))"
   ]
  },
  {
   "cell_type": "code",
   "execution_count": 11,
   "id": "29870cb2",
   "metadata": {},
   "outputs": [
    {
     "name": "stdout",
     "output_type": "stream",
     "text": [
      "{'Name': 'Subrata', 'age': 30, 'is_student': True}\n"
     ]
    }
   ],
   "source": [
    "#Modify Disctionary:\n",
    "# Are mutable, so you can add, update, delete\n",
    "print(student)"
   ]
  },
  {
   "cell_type": "code",
   "execution_count": 13,
   "id": "2c7e20b3",
   "metadata": {},
   "outputs": [
    {
     "name": "stdout",
     "output_type": "stream",
     "text": [
      "{'Name': 'Subrata', 'age': 33, 'is_student': True, 'address': 'Bangladesh'}\n"
     ]
    }
   ],
   "source": [
    "student[\"age\"] = 33\n",
    "student[\"address\"] = \"Bangladesh\"\n",
    "print(student)"
   ]
  },
  {
   "cell_type": "code",
   "execution_count": 14,
   "id": "500d9f86",
   "metadata": {},
   "outputs": [
    {
     "name": "stdout",
     "output_type": "stream",
     "text": [
      "{'Name': 'Subrata', 'age': 33, 'is_student': True}\n"
     ]
    }
   ],
   "source": [
    "del student[\"address\"]\n",
    "print(student)"
   ]
  }
 ],
 "metadata": {
  "kernelspec": {
   "display_name": "base",
   "language": "python",
   "name": "python3"
  },
  "language_info": {
   "codemirror_mode": {
    "name": "ipython",
    "version": 3
   },
   "file_extension": ".py",
   "mimetype": "text/x-python",
   "name": "python",
   "nbconvert_exporter": "python",
   "pygments_lexer": "ipython3",
   "version": "3.12.2"
  }
 },
 "nbformat": 4,
 "nbformat_minor": 5
}
